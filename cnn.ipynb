{
  "nbformat": 4,
  "nbformat_minor": 0,
  "metadata": {
    "colab": {
      "provenance": [],
      "authorship_tag": "ABX9TyOI1rvTBx3qz4/bDthCx32U",
      "include_colab_link": true
    },
    "kernelspec": {
      "name": "python3",
      "display_name": "Python 3"
    },
    "language_info": {
      "name": "python"
    }
  },
  "cells": [
    {
      "cell_type": "markdown",
      "metadata": {
        "id": "view-in-github",
        "colab_type": "text"
      },
      "source": [
        "<a href=\"https://colab.research.google.com/github/Ajayreddy827/LAB-EXPS/blob/main/cnn.ipynb\" target=\"_parent\"><img src=\"https://colab.research.google.com/assets/colab-badge.svg\" alt=\"Open In Colab\"/></a>"
      ]
    },
    {
      "cell_type": "code",
      "execution_count": 1,
      "metadata": {
        "colab": {
          "base_uri": "https://localhost:8080/"
        },
        "id": "OSkXOMxdSCvF",
        "outputId": "c6e7fb10-58a3-4604-f42c-3349fcfcaa8d"
      },
      "outputs": [
        {
          "output_type": "stream",
          "name": "stdout",
          "text": [
            "Downloading data from https://storage.googleapis.com/tensorflow/tf-keras-datasets/mnist.npz\n",
            "11490434/11490434 [==============================] - 1s 0us/step\n",
            "Epoch 1/10\n",
            "300/300 - 45s - loss: 0.3547 - accuracy: 0.8921 - val_loss: 0.0746 - val_accuracy: 0.9774 - 45s/epoch - 150ms/step\n",
            "Epoch 2/10\n",
            "300/300 - 40s - loss: 0.1180 - accuracy: 0.9647 - val_loss: 0.0479 - val_accuracy: 0.9846 - 40s/epoch - 133ms/step\n",
            "Epoch 3/10\n",
            "300/300 - 39s - loss: 0.0868 - accuracy: 0.9747 - val_loss: 0.0399 - val_accuracy: 0.9868 - 39s/epoch - 129ms/step\n",
            "Epoch 4/10\n",
            "300/300 - 39s - loss: 0.0685 - accuracy: 0.9800 - val_loss: 0.0346 - val_accuracy: 0.9888 - 39s/epoch - 129ms/step\n",
            "Epoch 5/10\n",
            "300/300 - 38s - loss: 0.0627 - accuracy: 0.9813 - val_loss: 0.0338 - val_accuracy: 0.9894 - 38s/epoch - 127ms/step\n",
            "Epoch 6/10\n",
            "300/300 - 39s - loss: 0.0522 - accuracy: 0.9840 - val_loss: 0.0294 - val_accuracy: 0.9901 - 39s/epoch - 129ms/step\n",
            "Epoch 7/10\n",
            "300/300 - 39s - loss: 0.0465 - accuracy: 0.9862 - val_loss: 0.0277 - val_accuracy: 0.9909 - 39s/epoch - 132ms/step\n",
            "Epoch 8/10\n",
            "300/300 - 39s - loss: 0.0432 - accuracy: 0.9869 - val_loss: 0.0286 - val_accuracy: 0.9898 - 39s/epoch - 131ms/step\n",
            "Epoch 9/10\n",
            "300/300 - 39s - loss: 0.0414 - accuracy: 0.9872 - val_loss: 0.0284 - val_accuracy: 0.9905 - 39s/epoch - 132ms/step\n",
            "Epoch 10/10\n",
            "300/300 - 39s - loss: 0.0345 - accuracy: 0.9898 - val_loss: 0.0227 - val_accuracy: 0.9914 - 39s/epoch - 132ms/step\n",
            "Test accuracy: 99.14%\n"
          ]
        }
      ],
      "source": [
        "import tensorflow as tf\n",
        "from tensorflow.keras.datasets import mnist\n",
        "from tensorflow.keras.models import Sequential\n",
        "from tensorflow.keras.layers import Conv2D, MaxPooling2D, Flatten, Dense, Dropout\n",
        "from tensorflow.keras.utils import to_categorical\n",
        "# Load and preprocess the dataset\n",
        "(x_train, y_train), (x_test, y_test) = mnist.load_data()\n",
        "x_train = x_train.reshape(x_train.shape[0], 28, 28, 1).astype('float32') / 255\n",
        "x_test = x_test.reshape(x_test.shape[0], 28, 28, 1).astype('float32') / 255\n",
        "y_train = to_categorical(y_train, 10)\n",
        "y_test = to_categorical(y_test, 10)\n",
        "# Build the CNN model\n",
        "model = Sequential()\n",
        "model.add(Conv2D(32, kernel_size=(3, 3), activation='relu',\n",
        "input_shape=(28, 28, 1)))\n",
        "model.add(MaxPooling2D(pool_size=(2, 2)))\n",
        "model.add(Conv2D(64, kernel_size=(3, 3), activation='relu'))\n",
        "model.add(MaxPooling2D(pool_size=(2, 2)))\n",
        "model.add(Flatten())\n",
        "model.add(Dense(128, activation='relu'))\n",
        "model.add(Dropout(0.5))\n",
        "model.add(Dense(10, activation='softmax'))\n",
        "# Compile the model\n",
        "model.compile(loss='categorical_crossentropy', optimizer='adam',\n",
        "metrics=['accuracy'])\n",
        "# Train the model\n",
        "model.fit(x_train, y_train, validation_data=(x_test, y_test), epochs=10,\n",
        "batch_size=200, verbose=2)\n",
        "# Evaluate the model\n",
        "test_loss, test_acc = model.evaluate(x_test, y_test, verbose=0)\n",
        "print(f'Test accuracy: {test_acc*100:.2f}%')\n",
        "\n",
        "\n",
        "\n"
      ]
    }
  ]
}