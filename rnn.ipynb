{
  "nbformat": 4,
  "nbformat_minor": 0,
  "metadata": {
    "colab": {
      "provenance": [],
      "authorship_tag": "ABX9TyMwIrr5dDJZjPF7WRuO0Csp",
      "include_colab_link": true
    },
    "kernelspec": {
      "name": "python3",
      "display_name": "Python 3"
    },
    "language_info": {
      "name": "python"
    }
  },
  "cells": [
    {
      "cell_type": "markdown",
      "metadata": {
        "id": "view-in-github",
        "colab_type": "text"
      },
      "source": [
        "<a href=\"https://colab.research.google.com/github/Ajayreddy827/LAB-EXPS/blob/main/rnn.ipynb\" target=\"_parent\"><img src=\"https://colab.research.google.com/assets/colab-badge.svg\" alt=\"Open In Colab\"/></a>"
      ]
    },
    {
      "cell_type": "code",
      "execution_count": 1,
      "metadata": {
        "colab": {
          "base_uri": "https://localhost:8080/"
        },
        "id": "gZSaK85TCs_A",
        "outputId": "4622ee7e-70f8-4beb-b3c3-4c94e51ab6a2"
      },
      "outputs": [
        {
          "output_type": "stream",
          "name": "stdout",
          "text": [
            "Epoch 1/10\n",
            "4/4 [==============================] - 3s 17ms/step - loss: 1.3148\n",
            "Epoch 2/10\n",
            "4/4 [==============================] - 0s 11ms/step - loss: 1.1820\n",
            "Epoch 3/10\n",
            "4/4 [==============================] - 0s 8ms/step - loss: 1.0967\n",
            "Epoch 4/10\n",
            "4/4 [==============================] - 0s 24ms/step - loss: 1.0382\n",
            "Epoch 5/10\n",
            "4/4 [==============================] - 0s 12ms/step - loss: 0.9979\n",
            "Epoch 6/10\n",
            "4/4 [==============================] - 0s 29ms/step - loss: 0.9663\n",
            "Epoch 7/10\n",
            "4/4 [==============================] - 0s 13ms/step - loss: 0.9491\n",
            "Epoch 8/10\n",
            "4/4 [==============================] - 0s 9ms/step - loss: 0.9258\n",
            "Epoch 9/10\n",
            "4/4 [==============================] - 0s 13ms/step - loss: 0.9118\n",
            "Epoch 10/10\n",
            "4/4 [==============================] - 0s 8ms/step - loss: 0.8996\n",
            "1/1 [==============================] - 1s 847ms/step - loss: 0.3846\n"
          ]
        },
        {
          "output_type": "execute_result",
          "data": {
            "text/plain": [
              "0.3846087157726288"
            ]
          },
          "metadata": {},
          "execution_count": 1
        }
      ],
      "source": [
        "import tensorflow as tf\n",
        "from tensorflow import keras\n",
        "input_shape = (10, 1)\n",
        "model = keras.Sequential([\n",
        "    keras.layers.SimpleRNN(32, input_shape=input_shape),\n",
        "    keras.layers.Dense(1)\n",
        "])\n",
        "model.compile(optimizer='adam', loss='mse')\n",
        "import numpy as np\n",
        "\n",
        "X_train = np.random.randn(100, 10, 1)\n",
        "y_train = np.random.randn(100, 1)\n",
        "\n",
        "model.fit(X_train, y_train, epochs=10, batch_size=32)\n",
        "X_test = np.random.randn(10, 10, 1)\n",
        "y_test = np.random.randn(10, 1)\n",
        "\n",
        "model.evaluate(X_test, y_test)\n",
        "\n",
        "\n"
      ]
    }
  ]
}