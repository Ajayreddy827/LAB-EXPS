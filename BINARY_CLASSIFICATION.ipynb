{
  "nbformat": 4,
  "nbformat_minor": 0,
  "metadata": {
    "colab": {
      "provenance": [],
      "authorship_tag": "ABX9TyP+Id3ivvYEsD5fyfMF9oZ8",
      "include_colab_link": true
    },
    "kernelspec": {
      "name": "python3",
      "display_name": "Python 3"
    },
    "language_info": {
      "name": "python"
    }
  },
  "cells": [
    {
      "cell_type": "markdown",
      "metadata": {
        "id": "view-in-github",
        "colab_type": "text"
      },
      "source": [
        "<a href=\"https://colab.research.google.com/github/Ajayreddy827/LAB-EXPS/blob/main/BINARY_CLASSIFICATION.ipynb\" target=\"_parent\"><img src=\"https://colab.research.google.com/assets/colab-badge.svg\" alt=\"Open In Colab\"/></a>"
      ]
    },
    {
      "cell_type": "code",
      "execution_count": 1,
      "metadata": {
        "colab": {
          "base_uri": "https://localhost:8080/"
        },
        "id": "SqVydrknA7JR",
        "outputId": "a04f9ca4-c576-4df4-fba7-a1b45efa0d1b"
      },
      "outputs": [
        {
          "output_type": "stream",
          "name": "stdout",
          "text": [
            "Epoch 1/10\n",
            "20/20 [==============================] - 3s 40ms/step - loss: 0.6922 - accuracy: 0.6375 - val_loss: 0.6765 - val_accuracy: 0.6375\n",
            "Epoch 2/10\n",
            "20/20 [==============================] - 0s 13ms/step - loss: 0.6694 - accuracy: 0.5328 - val_loss: 0.6466 - val_accuracy: 0.5938\n",
            "Epoch 3/10\n",
            "20/20 [==============================] - 0s 8ms/step - loss: 0.6511 - accuracy: 0.5469 - val_loss: 0.6245 - val_accuracy: 0.6375\n",
            "Epoch 4/10\n",
            "20/20 [==============================] - 0s 7ms/step - loss: 0.6323 - accuracy: 0.6313 - val_loss: 0.6067 - val_accuracy: 0.6875\n",
            "Epoch 5/10\n",
            "20/20 [==============================] - 0s 11ms/step - loss: 0.6111 - accuracy: 0.7000 - val_loss: 0.5843 - val_accuracy: 0.6875\n",
            "Epoch 6/10\n",
            "20/20 [==============================] - 0s 13ms/step - loss: 0.5890 - accuracy: 0.7531 - val_loss: 0.5609 - val_accuracy: 0.7625\n",
            "Epoch 7/10\n",
            "20/20 [==============================] - 0s 21ms/step - loss: 0.5639 - accuracy: 0.7703 - val_loss: 0.5363 - val_accuracy: 0.8250\n",
            "Epoch 8/10\n",
            "20/20 [==============================] - 0s 9ms/step - loss: 0.5366 - accuracy: 0.8281 - val_loss: 0.5116 - val_accuracy: 0.8938\n",
            "Epoch 9/10\n",
            "20/20 [==============================] - 0s 11ms/step - loss: 0.5077 - accuracy: 0.8609 - val_loss: 0.4843 - val_accuracy: 0.9125\n",
            "Epoch 10/10\n",
            "20/20 [==============================] - 0s 7ms/step - loss: 0.4780 - accuracy: 0.8859 - val_loss: 0.4564 - val_accuracy: 0.9250\n",
            "7/7 [==============================] - 0s 3ms/step\n",
            "Test accuracy: 0.9050\n"
          ]
        }
      ],
      "source": [
        "import numpy as np\n",
        "import tensorflow as tf\n",
        "from tensorflow.keras.models import Sequential\n",
        "from tensorflow.keras.layers import Dense,Input\n",
        "from sklearn.model_selection import train_test_split\n",
        "from sklearn.metrics import accuracy_score\n",
        "np.random.seed(42)\n",
        "X = np.random.rand(1000, 2)\n",
        "y = (X[:, 0] + X[:, 1] > 1).astype(int)\n",
        "X_train, X_test, y_train, y_test = train_test_split(X, y, test_size=0.2,\n",
        "random_state=42)\n",
        "model = Sequential([Input(shape=(2)),Dense(64, activation='relu'),Dense(1,\n",
        "activation='sigmoid')])\n",
        "model.compile(optimizer='adam',loss='binary_crossentropy',metrics=['accuracy'])\n",
        "model.fit(X_train, y_train, epochs=10, batch_size=32, validation_split=0.2)\n",
        "y_pred = model.predict(X_test)\n",
        "y_pred_binary = (y_pred > 0.5).astype(int)\n",
        "test_accuracy = accuracy_score(y_test, y_pred_binary)\n",
        "print(f\"Test accuracy: {test_accuracy:.4f}\")\n",
        "\n",
        "\n",
        "\n",
        "\n"
      ]
    }
  ]
}